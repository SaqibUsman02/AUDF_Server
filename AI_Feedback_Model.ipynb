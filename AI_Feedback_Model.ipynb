{
  "cells": [
    {
      "cell_type": "code",
      "execution_count": null,
      "metadata": {
        "id": "ef0fa25b"
      },
      "outputs": [],
      "source": [],
      "id": "ef0fa25b"
    },
    {
      "cell_type": "code",
      "execution_count": 1,
      "metadata": {
        "id": "0f7ba641"
      },
      "outputs": [],
      "source": [
        "import numpy as np\n",
        "\n",
        "import tensorflow_datasets as tfds\n",
        "import tensorflow as tf\n",
        "\n",
        "tfds.disable_progress_bar()"
      ],
      "id": "0f7ba641"
    },
    {
      "cell_type": "code",
      "execution_count": 2,
      "metadata": {
        "id": "0af41b0d"
      },
      "outputs": [],
      "source": [
        "#pip install tensorflow_datasets"
      ],
      "id": "0af41b0d"
    },
    {
      "cell_type": "code",
      "execution_count": 3,
      "metadata": {
        "id": "589fe6ab"
      },
      "outputs": [],
      "source": [
        "#!pip install --upgrade tensorflow-datasets"
      ],
      "id": "589fe6ab"
    },
    {
      "cell_type": "code",
      "execution_count": 4,
      "metadata": {
        "id": "dbe579b0"
      },
      "outputs": [],
      "source": [
        "import numpy as np\n",
        "import tensorflow_datasets as tfds\n",
        "import tensorflow as tf\n",
        "tfds.disable_progress_bar()"
      ],
      "id": "dbe579b0"
    },
    {
      "cell_type": "code",
      "execution_count": 5,
      "metadata": {
        "colab": {
          "base_uri": "https://localhost:8080/"
        },
        "id": "d45380e6",
        "outputId": "5c3281d8-2432-4f4d-e7f7-aef17a201428"
      },
      "outputs": [
        {
          "output_type": "stream",
          "name": "stdout",
          "text": [
            "Downloading and preparing dataset 80.23 MiB (download: 80.23 MiB, generated: Unknown size, total: 80.23 MiB) to /root/tensorflow_datasets/imdb_reviews/plain_text/1.0.0...\n",
            "Dataset imdb_reviews downloaded and prepared to /root/tensorflow_datasets/imdb_reviews/plain_text/1.0.0. Subsequent calls will reuse this data.\n"
          ]
        },
        {
          "output_type": "execute_result",
          "data": {
            "text/plain": [
              "(TensorSpec(shape=(), dtype=tf.string, name=None),\n",
              " TensorSpec(shape=(), dtype=tf.int64, name=None))"
            ]
          },
          "metadata": {},
          "execution_count": 5
        }
      ],
      "source": [
        "dataset, info = tfds.load('imdb_reviews', with_info=True, as_supervised=True)\n",
        "train_dataset, test_dataset = dataset['train'], dataset['test']\n",
        "train_dataset.element_spec"
      ],
      "id": "d45380e6"
    },
    {
      "cell_type": "code",
      "execution_count": 6,
      "metadata": {
        "id": "22a357a9"
      },
      "outputs": [],
      "source": [
        "#pip install kaggle"
      ],
      "id": "22a357a9"
    },
    {
      "cell_type": "code",
      "execution_count": 7,
      "metadata": {
        "id": "988c6a15"
      },
      "outputs": [],
      "source": [
        "#kaggle kernels output \"tanulsingh077/twitter-sentiment-extaction-analysis-eda-and-model\" -p F:/Sentiment\n"
      ],
      "id": "988c6a15"
    },
    {
      "cell_type": "code",
      "execution_count": 8,
      "metadata": {
        "id": "047cf6b5"
      },
      "outputs": [],
      "source": [
        "#for example,label in train_dataset.take(1):\n",
        "   # print(label.numpy())\n",
        "    #print(label.numpy())\n",
        "    "
      ],
      "id": "047cf6b5"
    },
    {
      "cell_type": "code",
      "execution_count": 9,
      "metadata": {
        "id": "bbe8e943"
      },
      "outputs": [],
      "source": [
        "BUFFER_SIZE = 10000\n",
        "BATCH_SIZE = 64"
      ],
      "id": "bbe8e943"
    },
    {
      "cell_type": "code",
      "execution_count": 10,
      "metadata": {
        "id": "66f7b147"
      },
      "outputs": [],
      "source": [
        "train_dataset = train_dataset.shuffle(BUFFER_SIZE).batch(BATCH_SIZE).prefetch(tf.data.AUTOTUNE)\n",
        "test_dataset = test_dataset.batch(BATCH_SIZE).prefetch(tf.data.AUTOTUNE)"
      ],
      "id": "66f7b147"
    },
    {
      "cell_type": "code",
      "execution_count": 11,
      "metadata": {
        "colab": {
          "base_uri": "https://localhost:8080/"
        },
        "id": "d432e39b",
        "outputId": "2f1f6259-f420-4a7f-d9ca-23bad0ac4aef"
      },
      "outputs": [
        {
          "output_type": "stream",
          "name": "stdout",
          "text": [
            "texts:  [b\"The premise for this movie is simple and so is the script: an elderly Muslim gets his teenage son to drive him in his similarly elderly station wagon from France to the haj in Mecca, Saudi Arabia, so that he can fulfill his holy Muslim obligation before he dies. The father is clearly devoutly religious, but the son is unimpressed; he accepts out of obligation to his father rather than to religion, he'd rather be with his (non-Muslim) girlfriend. The father is stubborn in a lot of things which the son doesn't understand and the petulance between them is the device that maintains the drama, although it is often rather irksome. However, like any good road movie there are oddball characters encountered along the way; for example a woman on a backroad in Croatia who upon being asked for directions to Belgrade simply gets in the backseat and points with her hand uttering one word which they assume to be a place but can't find it on the map. In Bulgaria another man they ask directions of confirms he can speak French but then provides an extensive commentary in Bulgarian. There is also occasional humor - in one country the son tires of eating egg sandwiches and wants meat - they are given a goat, but unfortunately (perhaps fortunately for the viewer) it runs away before the father can perform the Muslim slaughterman ritual. They eventually make it to Mecca - the Muslim equivalent of the Vatican but on a much grander scale. For westerners it is all bizarre but fascinating. The movie isn't sophisticated but is charming in its own way, a kind of National Geographic with soul.\"\n",
            " b\"Hugh (Ed Harris) is a hotshot, bachelor senator determined to run for president. One day, however, he happens upon an old high school classmate named Aggie. Aggie (Diane Keaton) is an accomplished and award-winning author with a lovely face and an independent spirit. Hugh is smitten. He convinces Aggie to become his fianc\\xc3\\xa9. But, will Aggie have to sacrifice her principles of honesty in the world of politics, where things are not always what they seem to be? And, will she be able to withstand the rigors of a harsh media blitz? This is, mostly, a nice romance for those who adore tales of affection. Hugh and Aggie are absolutely in love and their banter and conversation are a good view. However, although the movie tries to show the political life in its reality, it doesn't completely succeed. Nevermind. The production values are high and the script is very elegantly written. With these advantages and the handsome personages of Keaton and Harris, those who sit down to the film will find it to be good entertainment.\"\n",
            " b'<br /><br />Back in his youth, the old man had wanted to marry his first cousin, but his family forbid it. Many decades later, the old man has raised three children (two boys and one girl), and allows his son and daughter to marry and have children. Soon, the sister is bored with brother #1, and jumps in the bed of brother #2.<br /><br />One might think that the three siblings are stuck somewhere on a remote island. But no -- they are upper class Europeans going to college and busy in the social world.<br /><br />Never do we see a flirtatious moment between any non-related female and the two brothers. Never do we see any flirtatious moment between any non-related male and the one sister. All flirtatious moments are shared between only between the brothers and sister.<br /><br />The weakest part of GLADIATOR was the incest thing. The young emperor Commodus would have hundreds of slave girls and a city full of marriage-minded girls all over him, but no -- he only wanted his sister? If movie incest is your cup of tea, then SUNSHINE will (slowly) thrill you to no end.']\n",
            "\n",
            "labels:  [1 1 0]\n"
          ]
        }
      ],
      "source": [
        "for example, label in train_dataset.take(1):\n",
        "    print('texts: ', example.numpy()[:3])\n",
        "    print()\n",
        "    print('labels: ', label.numpy()[:3])"
      ],
      "id": "d432e39b"
    },
    {
      "cell_type": "code",
      "execution_count": 12,
      "metadata": {
        "id": "44caef63"
      },
      "outputs": [],
      "source": [
        "VOCAB_SIZE = 1000\n",
        "encoder = tf.keras.layers.TextVectorization(\n",
        "    max_tokens=VOCAB_SIZE)\n",
        "encoder.adapt(train_dataset.map(lambda text, label: text))"
      ],
      "id": "44caef63"
    },
    {
      "cell_type": "code",
      "execution_count": 13,
      "metadata": {
        "colab": {
          "base_uri": "https://localhost:8080/"
        },
        "id": "cc571eb2",
        "outputId": "0fa01352-b95f-404e-c744-3857c70d794e"
      },
      "outputs": [
        {
          "output_type": "execute_result",
          "data": {
            "text/plain": [
              "array(['', '[UNK]', 'the', 'and', 'a', 'of', 'to', 'is', 'in', 'it', 'i',\n",
              "       'this', 'that', 'br', 'was', 'as', 'for', 'with', 'movie', 'but'],\n",
              "      dtype='<U14')"
            ]
          },
          "metadata": {},
          "execution_count": 13
        }
      ],
      "source": [
        "vocab = np.array(encoder.get_vocabulary())\n",
        "vocab[:20]"
      ],
      "id": "cc571eb2"
    },
    {
      "cell_type": "code",
      "execution_count": 14,
      "metadata": {
        "colab": {
          "base_uri": "https://localhost:8080/"
        },
        "id": "c6f01ab9",
        "outputId": "ad88510d-d1d9-424f-e6ec-6dcfa0a04827"
      },
      "outputs": [
        {
          "output_type": "execute_result",
          "data": {
            "text/plain": [
              "array([[  2, 839,  16, ...,   0,   0,   0],\n",
              "       [  1,   1,   1, ...,   0,   0,   0],\n",
              "       [ 13,  13, 143, ...,   0,   0,   0]])"
            ]
          },
          "metadata": {},
          "execution_count": 14
        }
      ],
      "source": [
        "encoded_example = encoder(example)[:3].numpy()\n",
        "encoded_example"
      ],
      "id": "c6f01ab9"
    },
    {
      "cell_type": "code",
      "execution_count": 15,
      "metadata": {
        "colab": {
          "base_uri": "https://localhost:8080/"
        },
        "id": "92990f0b",
        "outputId": "9c43dc7b-55a9-4852-d13e-98f49bfbe830"
      },
      "outputs": [
        {
          "output_type": "stream",
          "name": "stdout",
          "text": [
            "Original:  b\"The premise for this movie is simple and so is the script: an elderly Muslim gets his teenage son to drive him in his similarly elderly station wagon from France to the haj in Mecca, Saudi Arabia, so that he can fulfill his holy Muslim obligation before he dies. The father is clearly devoutly religious, but the son is unimpressed; he accepts out of obligation to his father rather than to religion, he'd rather be with his (non-Muslim) girlfriend. The father is stubborn in a lot of things which the son doesn't understand and the petulance between them is the device that maintains the drama, although it is often rather irksome. However, like any good road movie there are oddball characters encountered along the way; for example a woman on a backroad in Croatia who upon being asked for directions to Belgrade simply gets in the backseat and points with her hand uttering one word which they assume to be a place but can't find it on the map. In Bulgaria another man they ask directions of confirms he can speak French but then provides an extensive commentary in Bulgarian. There is also occasional humor - in one country the son tires of eating egg sandwiches and wants meat - they are given a goat, but unfortunately (perhaps fortunately for the viewer) it runs away before the father can perform the Muslim slaughterman ritual. They eventually make it to Mecca - the Muslim equivalent of the Vatican but on a much grander scale. For westerners it is all bizarre but fascinating. The movie isn't sophisticated but is charming in its own way, a kind of National Geographic with soul.\"\n",
            "Round-trip:  the premise for this movie is simple and so is the script an [UNK] [UNK] gets his [UNK] son to [UNK] him in his [UNK] [UNK] [UNK] [UNK] from [UNK] to the [UNK] in [UNK] [UNK] [UNK] so that he can [UNK] his [UNK] [UNK] [UNK] before he [UNK] the father is clearly [UNK] [UNK] but the son is [UNK] he [UNK] out of [UNK] to his father rather than to [UNK] [UNK] rather be with his [UNK] [UNK] the father is [UNK] in a lot of things which the son doesnt understand and the [UNK] between them is the [UNK] that [UNK] the drama although it is often rather [UNK] however like any good [UNK] movie there are [UNK] characters [UNK] along the way for example a woman on a [UNK] in [UNK] who upon being [UNK] for [UNK] to [UNK] simply gets in the [UNK] and points with her hand [UNK] one word which they [UNK] to be a place but cant find it on the [UNK] in [UNK] another man they ask [UNK] of [UNK] he can [UNK] french but then [UNK] an [UNK] [UNK] in [UNK] there is also [UNK] humor in one country the son [UNK] of [UNK] [UNK] [UNK] and wants [UNK] they are given a [UNK] but unfortunately perhaps [UNK] for the viewer it [UNK] away before the father can [UNK] the [UNK] [UNK] [UNK] they eventually make it to [UNK] the [UNK] [UNK] of the [UNK] but on a much [UNK] [UNK] for [UNK] it is all [UNK] but [UNK] the movie isnt [UNK] but is [UNK] in its own way a kind of [UNK] [UNK] with [UNK]                                                                                                                                                                                                                                                                                                                                                                                                                                                                                                                                                                                                                                                                                                                                 \n",
            "\n",
            "Original:  b\"Hugh (Ed Harris) is a hotshot, bachelor senator determined to run for president. One day, however, he happens upon an old high school classmate named Aggie. Aggie (Diane Keaton) is an accomplished and award-winning author with a lovely face and an independent spirit. Hugh is smitten. He convinces Aggie to become his fianc\\xc3\\xa9. But, will Aggie have to sacrifice her principles of honesty in the world of politics, where things are not always what they seem to be? And, will she be able to withstand the rigors of a harsh media blitz? This is, mostly, a nice romance for those who adore tales of affection. Hugh and Aggie are absolutely in love and their banter and conversation are a good view. However, although the movie tries to show the political life in its reality, it doesn't completely succeed. Nevermind. The production values are high and the script is very elegantly written. With these advantages and the handsome personages of Keaton and Harris, those who sit down to the film will find it to be good entertainment.\"\n",
            "Round-trip:  [UNK] [UNK] [UNK] is a [UNK] [UNK] [UNK] [UNK] to run for [UNK] one day however he happens upon an old high school [UNK] named [UNK] [UNK] [UNK] [UNK] is an [UNK] and [UNK] [UNK] with a [UNK] face and an [UNK] [UNK] [UNK] is [UNK] he [UNK] [UNK] to become his [UNK] but will [UNK] have to [UNK] her [UNK] of [UNK] in the world of [UNK] where things are not always what they seem to be and will she be able to [UNK] the [UNK] of a [UNK] [UNK] [UNK] this is mostly a nice romance for those who [UNK] [UNK] of [UNK] [UNK] and [UNK] are absolutely in love and their [UNK] and [UNK] are a good view however although the movie tries to show the political life in its reality it doesnt completely [UNK] [UNK] the production [UNK] are high and the script is very [UNK] written with these [UNK] and the [UNK] [UNK] of [UNK] and [UNK] those who sit down to the film will find it to be good entertainment                                                                                                                                                                                                                                                                                                                                                                                                                                                                                                                                                                                                                                                                                                                                                                                                                                     \n",
            "\n",
            "Original:  b'<br /><br />Back in his youth, the old man had wanted to marry his first cousin, but his family forbid it. Many decades later, the old man has raised three children (two boys and one girl), and allows his son and daughter to marry and have children. Soon, the sister is bored with brother #1, and jumps in the bed of brother #2.<br /><br />One might think that the three siblings are stuck somewhere on a remote island. But no -- they are upper class Europeans going to college and busy in the social world.<br /><br />Never do we see a flirtatious moment between any non-related female and the two brothers. Never do we see any flirtatious moment between any non-related male and the one sister. All flirtatious moments are shared between only between the brothers and sister.<br /><br />The weakest part of GLADIATOR was the incest thing. The young emperor Commodus would have hundreds of slave girls and a city full of marriage-minded girls all over him, but no -- he only wanted his sister? If movie incest is your cup of tea, then SUNSHINE will (slowly) thrill you to no end.'\n",
            "Round-trip:  br br back in his [UNK] the old man had wanted to [UNK] his first [UNK] but his family [UNK] it many [UNK] later the old man has [UNK] three children two boys and one girl and [UNK] his son and daughter to [UNK] and have children soon the sister is [UNK] with brother 1 and [UNK] in the [UNK] of brother [UNK] br one might think that the three [UNK] are [UNK] [UNK] on a [UNK] [UNK] but no they are [UNK] class [UNK] going to [UNK] and [UNK] in the [UNK] [UNK] br never do we see a [UNK] moment between any [UNK] female and the two brothers never do we see any [UNK] moment between any [UNK] male and the one sister all [UNK] moments are [UNK] between only between the brothers and [UNK] br the [UNK] part of [UNK] was the [UNK] thing the young [UNK] [UNK] would have [UNK] of [UNK] girls and a city full of [UNK] girls all over him but no he only wanted his sister if movie [UNK] is your [UNK] of [UNK] then [UNK] will [UNK] [UNK] you to no end                                                                                                                                                                                                                                                                                                                                                                                                                                                                                                                                                                                                                                                                                                                                                                                                                      \n",
            "\n"
          ]
        }
      ],
      "source": [
        "for n in range(3):\n",
        "    print(\"Original: \", example[n].numpy())\n",
        "    print(\"Round-trip: \", \" \".join(vocab[encoded_example[n]]))\n",
        "    print()"
      ],
      "id": "92990f0b"
    },
    {
      "cell_type": "code",
      "execution_count": 16,
      "metadata": {
        "id": "8fe9c22e"
      },
      "outputs": [],
      "source": [
        "model = tf.keras.Sequential([\n",
        "    encoder,\n",
        "    tf.keras.layers.Embedding(len(encoder.get_vocabulary()), 64, mask_zero=True),\n",
        "    tf.keras.layers.Bidirectional(tf.keras.layers.LSTM(64,  return_sequences=True)),\n",
        "    tf.keras.layers.Bidirectional(tf.keras.layers.LSTM(32)),\n",
        "    tf.keras.layers.Dense(64, activation='relu'),\n",
        "    tf.keras.layers.Dropout(0.5),\n",
        "    tf.keras.layers.Dense(1)\n",
        "])"
      ],
      "id": "8fe9c22e"
    },
    {
      "cell_type": "code",
      "execution_count": 17,
      "metadata": {
        "colab": {
          "base_uri": "https://localhost:8080/"
        },
        "id": "45de145b",
        "outputId": "b9f44b80-1597-4b1a-c6a4-505f3aa2a342"
      },
      "outputs": [
        {
          "output_type": "stream",
          "name": "stdout",
          "text": [
            "[False, True, True, True, True, True, True]\n"
          ]
        }
      ],
      "source": [
        "print([layer.supports_masking for layer in model.layers])"
      ],
      "id": "45de145b"
    },
    {
      "cell_type": "code",
      "execution_count": 18,
      "metadata": {
        "colab": {
          "base_uri": "https://localhost:8080/"
        },
        "id": "fde69ccf",
        "outputId": "50ba8791-3cc5-4a99-eb0b-78c21d72767a"
      },
      "outputs": [
        {
          "output_type": "stream",
          "name": "stdout",
          "text": [
            "1/1 [==============================] - 9s 9s/step\n",
            "[0.00468022]\n"
          ]
        }
      ],
      "source": [
        "# predict on a sample text without padding.\n",
        "\n",
        "sample_text = ('The movie was cool. The animation and the graphics '\n",
        "               'were out of this world. I would recommend this movie.')\n",
        "predictions = model.predict(np.array([sample_text]))\n",
        "print(predictions[0])"
      ],
      "id": "fde69ccf"
    },
    {
      "cell_type": "code",
      "execution_count": 19,
      "metadata": {
        "colab": {
          "base_uri": "https://localhost:8080/"
        },
        "id": "f6ee773d",
        "outputId": "2b4eafeb-749d-4e04-f6ae-d78da0cf32ac"
      },
      "outputs": [
        {
          "output_type": "stream",
          "name": "stdout",
          "text": [
            "1/1 [==============================] - 0s 114ms/step\n",
            "[0.00468023]\n"
          ]
        }
      ],
      "source": [
        "# predict on a sample text with padding\n",
        "\n",
        "padding = \"the \" * 2000\n",
        "predictions = model.predict(np.array([sample_text, padding]))\n",
        "print(predictions[0])"
      ],
      "id": "f6ee773d"
    },
    {
      "cell_type": "code",
      "execution_count": 20,
      "metadata": {
        "id": "8ed61176"
      },
      "outputs": [],
      "source": [
        "model.compile(loss=tf.keras.losses.BinaryCrossentropy(from_logits=True),\n",
        "              optimizer=tf.keras.optimizers.Adam(1e-4),\n",
        "              metrics=['accuracy'])"
      ],
      "id": "8ed61176"
    },
    {
      "cell_type": "code",
      "execution_count": 21,
      "metadata": {
        "colab": {
          "base_uri": "https://localhost:8080/"
        },
        "id": "f97cbaf1",
        "outputId": "496d68ae-1598-4f2f-c869-871071de513c"
      },
      "outputs": [
        {
          "output_type": "stream",
          "name": "stdout",
          "text": [
            "Epoch 1/10\n",
            "391/391 [==============================] - 84s 167ms/step - loss: 0.6177 - accuracy: 0.6019 - val_loss: 0.4229 - val_accuracy: 0.8042\n",
            "Epoch 2/10\n",
            "391/391 [==============================] - 47s 119ms/step - loss: 0.3762 - accuracy: 0.8358 - val_loss: 0.3491 - val_accuracy: 0.8536\n",
            "Epoch 3/10\n",
            "391/391 [==============================] - 49s 125ms/step - loss: 0.3361 - accuracy: 0.8572 - val_loss: 0.3450 - val_accuracy: 0.8401\n",
            "Epoch 4/10\n",
            "391/391 [==============================] - 46s 117ms/step - loss: 0.3202 - accuracy: 0.8654 - val_loss: 0.3334 - val_accuracy: 0.8651\n",
            "Epoch 5/10\n",
            "391/391 [==============================] - 47s 120ms/step - loss: 0.3107 - accuracy: 0.8683 - val_loss: 0.3191 - val_accuracy: 0.8641\n",
            "Epoch 6/10\n",
            "391/391 [==============================] - 47s 118ms/step - loss: 0.3072 - accuracy: 0.8711 - val_loss: 0.3188 - val_accuracy: 0.8604\n",
            "Epoch 7/10\n",
            "391/391 [==============================] - 46s 117ms/step - loss: 0.3035 - accuracy: 0.8704 - val_loss: 0.3193 - val_accuracy: 0.8625\n",
            "Epoch 8/10\n",
            "391/391 [==============================] - 46s 118ms/step - loss: 0.3023 - accuracy: 0.8706 - val_loss: 0.3360 - val_accuracy: 0.8370\n",
            "Epoch 9/10\n",
            "391/391 [==============================] - 47s 120ms/step - loss: 0.2999 - accuracy: 0.8721 - val_loss: 0.3143 - val_accuracy: 0.8594\n",
            "Epoch 10/10\n",
            "391/391 [==============================] - 45s 116ms/step - loss: 0.2992 - accuracy: 0.8724 - val_loss: 0.3160 - val_accuracy: 0.8557\n"
          ]
        }
      ],
      "source": [
        "history = model.fit(train_dataset, epochs=10,\n",
        "                    validation_data=test_dataset,\n",
        "                    validation_steps=30)\n"
      ],
      "id": "f97cbaf1"
    },
    {
      "cell_type": "code",
      "execution_count": 22,
      "metadata": {
        "id": "2vRxVf9hIWLu",
        "colab": {
          "base_uri": "https://localhost:8080/"
        },
        "outputId": "e982e4a6-917f-4bcd-90a2-efda46b61f8a"
      },
      "outputs": [
        {
          "output_type": "stream",
          "name": "stdout",
          "text": [
            "Mounted at /content/drive\n"
          ]
        }
      ],
      "source": [
        "from google.colab import drive\n",
        "drive.mount('/content/drive')"
      ],
      "id": "2vRxVf9hIWLu"
    },
    {
      "cell_type": "code",
      "execution_count": 23,
      "metadata": {
        "id": "b32d2f8f",
        "colab": {
          "base_uri": "https://localhost:8080/"
        },
        "outputId": "c24ff0e4-c25b-4b0d-cd4d-aeaf9dac80d6"
      },
      "outputs": [
        {
          "output_type": "stream",
          "name": "stderr",
          "text": [
            "WARNING:absl:Found untraced functions such as lstm_cell_1_layer_call_fn, lstm_cell_1_layer_call_and_return_conditional_losses, lstm_cell_2_layer_call_fn, lstm_cell_2_layer_call_and_return_conditional_losses, lstm_cell_4_layer_call_fn while saving (showing 5 of 8). These functions will not be directly callable after loading.\n"
          ]
        }
      ],
      "source": [
        "model.save('my_model') "
      ],
      "id": "b32d2f8f"
    },
    {
      "cell_type": "code",
      "execution_count": 24,
      "metadata": {
        "id": "D12ZMlr3OK4B"
      },
      "outputs": [],
      "source": [
        "new_model = tf.keras.models.load_model('my_model')\n",
        "\n"
      ],
      "id": "D12ZMlr3OK4B"
    },
    {
      "cell_type": "code",
      "execution_count": 25,
      "metadata": {
        "id": "tjxBqtbjqy1V",
        "colab": {
          "base_uri": "https://localhost:8080/"
        },
        "outputId": "52111eb2-428e-4aa5-f6d2-58ea9627f954"
      },
      "outputs": [
        {
          "output_type": "stream",
          "name": "stdout",
          "text": [
            "391/391 [==============================] - 29s 54ms/step - loss: 0.3156 - accuracy: 0.8558\n",
            "Test Loss: 0.3155818283557892\n",
            "Test Accuracy: 0.8557999730110168\n",
            "Model: \"sequential\"\n",
            "_________________________________________________________________\n",
            " Layer (type)                Output Shape              Param #   \n",
            "=================================================================\n",
            " text_vectorization (TextVec  (None, None)             0         \n",
            " torization)                                                     \n",
            "                                                                 \n",
            " embedding (Embedding)       (None, None, 64)          64000     \n",
            "                                                                 \n",
            " bidirectional (Bidirectiona  (None, None, 128)        66048     \n",
            " l)                                                              \n",
            "                                                                 \n",
            " bidirectional_1 (Bidirectio  (None, 64)               41216     \n",
            " nal)                                                            \n",
            "                                                                 \n",
            " dense (Dense)               (None, 64)                4160      \n",
            "                                                                 \n",
            " dropout (Dropout)           (None, 64)                0         \n",
            "                                                                 \n",
            " dense_1 (Dense)             (None, 1)                 65        \n",
            "                                                                 \n",
            "=================================================================\n",
            "Total params: 175,489\n",
            "Trainable params: 175,489\n",
            "Non-trainable params: 0\n",
            "_________________________________________________________________\n"
          ]
        }
      ],
      "source": [
        "new_model = tf.keras.models.load_model('my_model')\n",
        "test_loss, test_acc = new_model.evaluate(test_dataset)\n",
        "\n",
        "print('Test Loss:', test_loss)\n",
        "print('Test Accuracy:', test_acc)\n",
        "# Check its architecture\n",
        "new_model.summary()"
      ],
      "id": "tjxBqtbjqy1V"
    },
    {
      "cell_type": "code",
      "execution_count": 26,
      "metadata": {
        "id": "tMyk5OvHKRb4",
        "colab": {
          "base_uri": "https://localhost:8080/"
        },
        "outputId": "4c61c362-c30a-44cf-9be0-2c4045826e8c"
      },
      "outputs": [
        {
          "output_type": "stream",
          "name": "stdout",
          "text": [
            "1/1 [==============================] - 5s 5s/step\n",
            "[[-1.0915141]]\n",
            "1/1 [==============================] - 0s 24ms/step\n",
            "[[0.37690428]]\n",
            "Good Review\n"
          ]
        }
      ],
      "source": [
        "# predict on a sample text without padding.\n",
        "\n",
        "sample_text = ('The wedding hall was very bad and the organizers were not professional.')\n",
        "predictions = model.predict(np.array([sample_text]))\n",
        "print(predictions)\n",
        "\n",
        "sample_text = ('The wedding hall was good but the overall event was exciting.')\n",
        "predictions = model.predict(np.array([sample_text]))\n",
        "print(predictions)\n",
        "\n",
        "if(predictions>(-0.4)):\n",
        "  print(\"Good Review\")\n",
        "\n",
        "if(predictions<(-0.4)):\n",
        "  print(\"Bad Review\")\n"
      ],
      "id": "tMyk5OvHKRb4"
    },
    {
      "cell_type": "code",
      "execution_count": 27,
      "metadata": {
        "id": "bzpeOA3fKeXa",
        "colab": {
          "base_uri": "https://localhost:8080/",
          "height": 512
        },
        "outputId": "8f88ae0b-58f1-4fd8-8364-e1a5a04d1bc9"
      },
      "outputs": [
        {
          "output_type": "display_data",
          "data": {
            "text/plain": [
              "<Figure size 1600x600 with 2 Axes>"
            ],
            "image/png": "[encoded data removed]"
          },
          "metadata": {}
        }
      ],
      "source": [
        "import matplotlib.pyplot as plt\n",
        "def plot_graphs(history, metric):\n",
        "  plt.plot(history.history[metric])\n",
        "  plt.plot(history.history['val_'+metric], '')\n",
        "  plt.xlabel(\"Epochs\")\n",
        "  plt.ylabel(metric)\n",
        "  plt.legend([metric, 'val_'+metric])\n",
        "  \n",
        "plt.figure(figsize=(16, 6))\n",
        "plt.subplot(1, 2, 1)\n",
        "plot_graphs(history, 'accuracy')\n",
        "plt.subplot(1, 2, 2)\n",
        "plot_graphs(history, 'loss')"
      ],
      "id": "bzpeOA3fKeXa"
    },
    {
      "cell_type": "code",
      "source": [],
      "metadata": {
        "id": "7kdDo34i_Daa"
      },
      "id": "7kdDo34i_Daa",
      "execution_count": 27,
      "outputs": []
    }
  ],
  "metadata": {
    "accelerator": "GPU",
    "colab": {
      "provenance": [],
      "gpuType": "T4"
    },
    "gpuClass": "standard",
    "kernelspec": {
      "display_name": "Python 3 (ipykernel)",
      "language": "python",
      "name": "python3"
    },
    "language_info": {
      "codemirror_mode": {
        "name": "ipython",
        "version": 3
      },
      "file_extension": ".py",
      "mimetype": "text/x-python",
      "name": "python",
      "nbconvert_exporter": "python",
      "pygments_lexer": "ipython3",
      "version": "3.9.12"
    }
  },
  "nbformat": 4,
  "nbformat_minor": 5
}